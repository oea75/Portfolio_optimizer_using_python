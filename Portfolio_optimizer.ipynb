{
  "nbformat": 4,
  "nbformat_minor": 0,
  "metadata": {
    "colab": {
      "name": "Portfolio optimizer.ipynb",
      "provenance": [],
      "collapsed_sections": [],
      "authorship_tag": "ABX9TyOsM18cmwtrVny7O23FDxzE"
    },
    "kernelspec": {
      "name": "python3",
      "display_name": "Python 3"
    }
  },
  "cells": [
    {
      "cell_type": "code",
      "metadata": {
        "id": "31uahpkC3l0m",
        "colab_type": "code",
        "colab": {}
      },
      "source": [
        "# This program attempts to optimize a users portfolio using the Efficient Frontier"
      ],
      "execution_count": null,
      "outputs": []
    },
    {
      "cell_type": "code",
      "metadata": {
        "id": "zCTcUTJm4JJw",
        "colab_type": "code",
        "colab": {}
      },
      "source": [
        "# import some libraries\n",
        "from pandas_datareader import data as wb\n",
        "import pandas as pd\n",
        "import numpy as np\n",
        "from datetime import datetime\n",
        "import matplotlib.pyplot as plt\n",
        "plt.style.use('fivethirtyeight')"
      ],
      "execution_count": null,
      "outputs": []
    },
    {
      "cell_type": "code",
      "metadata": {
        "id": "Se1nkGwI4o5K",
        "colab_type": "code",
        "colab": {}
      },
      "source": [
        "# get the stock symbols in our portfolio\n",
        "assets = ['TSLA', 'AMZN', 'NFLX','GOOG','AAPL']"
      ],
      "execution_count": null,
      "outputs": []
    },
    {
      "cell_type": "code",
      "metadata": {
        "id": "DxInpC625Gxh",
        "colab_type": "code",
        "colab": {}
      },
      "source": [
        "# assign weights to our portfolio \n",
        "weights = np.array([0.4, 0.2, 0.1, 0.2,0.1])"
      ],
      "execution_count": null,
      "outputs": []
    },
    {
      "cell_type": "code",
      "metadata": {
        "id": "MkY2aZ_a5hJH",
        "colab_type": "code",
        "colab": {}
      },
      "source": [
        "# get the portfolio start date\n",
        "stockStartDate = '2015-01-01'"
      ],
      "execution_count": null,
      "outputs": []
    },
    {
      "cell_type": "code",
      "metadata": {
        "id": "IHqVDqZT57yT",
        "colab_type": "code",
        "colab": {
          "base_uri": "https://localhost:8080/",
          "height": 35
        },
        "outputId": "194a2742-6059-4bf3-bfef-3e5fb51081fe"
      },
      "source": [
        "# get the portfolio ending date \n",
        "today = datetime.today().strftime('%Y-%m-%d')\n",
        "today"
      ],
      "execution_count": null,
      "outputs": [
        {
          "output_type": "execute_result",
          "data": {
            "application/vnd.google.colaboratory.intrinsic": {
              "type": "string"
            },
            "text/plain": [
              "'2020-07-14'"
            ]
          },
          "metadata": {
            "tags": []
          },
          "execution_count": 23
        }
      ]
    },
    {
      "cell_type": "code",
      "metadata": {
        "id": "G63LrmCx6HwV",
        "colab_type": "code",
        "colab": {}
      },
      "source": [
        "# create a dataframe to store the adjusted close price of the price\n",
        "df = pd.DataFrame()\n",
        "\n",
        "# store the adjusted close price pf the stock into the df\n",
        "for stock in assets : \n",
        "  df[stock] = wb.DataReader(stock, data_source = 'yahoo', start = stockStartDate, end = today)['Adj Close']"
      ],
      "execution_count": null,
      "outputs": []
    },
    {
      "cell_type": "code",
      "metadata": {
        "id": "u_k-o7NVB4xO",
        "colab_type": "code",
        "colab": {
          "base_uri": "https://localhost:8080/",
          "height": 450
        },
        "outputId": "fb44cbef-f2c3-4069-f11a-8aa7362c836a"
      },
      "source": [
        "# show the df\n",
        "df"
      ],
      "execution_count": null,
      "outputs": [
        {
          "output_type": "execute_result",
          "data": {
            "text/html": [
              "<div>\n",
              "<style scoped>\n",
              "    .dataframe tbody tr th:only-of-type {\n",
              "        vertical-align: middle;\n",
              "    }\n",
              "\n",
              "    .dataframe tbody tr th {\n",
              "        vertical-align: top;\n",
              "    }\n",
              "\n",
              "    .dataframe thead th {\n",
              "        text-align: right;\n",
              "    }\n",
              "</style>\n",
              "<table border=\"1\" class=\"dataframe\">\n",
              "  <thead>\n",
              "    <tr style=\"text-align: right;\">\n",
              "      <th></th>\n",
              "      <th>TSLA</th>\n",
              "      <th>AMZN</th>\n",
              "      <th>NFLX</th>\n",
              "      <th>GOOG</th>\n",
              "      <th>AAPL</th>\n",
              "    </tr>\n",
              "    <tr>\n",
              "      <th>Date</th>\n",
              "      <th></th>\n",
              "      <th></th>\n",
              "      <th></th>\n",
              "      <th></th>\n",
              "      <th></th>\n",
              "    </tr>\n",
              "  </thead>\n",
              "  <tbody>\n",
              "    <tr>\n",
              "      <th>2015-01-02</th>\n",
              "      <td>219.309998</td>\n",
              "      <td>308.519989</td>\n",
              "      <td>49.848572</td>\n",
              "      <td>523.373108</td>\n",
              "      <td>99.945885</td>\n",
              "    </tr>\n",
              "    <tr>\n",
              "      <th>2015-01-05</th>\n",
              "      <td>210.089996</td>\n",
              "      <td>302.190002</td>\n",
              "      <td>47.311428</td>\n",
              "      <td>512.463013</td>\n",
              "      <td>97.130241</td>\n",
              "    </tr>\n",
              "    <tr>\n",
              "      <th>2015-01-06</th>\n",
              "      <td>211.279999</td>\n",
              "      <td>295.290009</td>\n",
              "      <td>46.501427</td>\n",
              "      <td>500.585632</td>\n",
              "      <td>97.139420</td>\n",
              "    </tr>\n",
              "    <tr>\n",
              "      <th>2015-01-07</th>\n",
              "      <td>210.949997</td>\n",
              "      <td>298.420013</td>\n",
              "      <td>46.742859</td>\n",
              "      <td>499.727997</td>\n",
              "      <td>98.501518</td>\n",
              "    </tr>\n",
              "    <tr>\n",
              "      <th>2015-01-08</th>\n",
              "      <td>210.619995</td>\n",
              "      <td>300.459991</td>\n",
              "      <td>47.779999</td>\n",
              "      <td>501.303680</td>\n",
              "      <td>102.286186</td>\n",
              "    </tr>\n",
              "    <tr>\n",
              "      <th>...</th>\n",
              "      <td>...</td>\n",
              "      <td>...</td>\n",
              "      <td>...</td>\n",
              "      <td>...</td>\n",
              "      <td>...</td>\n",
              "    </tr>\n",
              "    <tr>\n",
              "      <th>2020-07-07</th>\n",
              "      <td>1389.859985</td>\n",
              "      <td>3000.120117</td>\n",
              "      <td>493.160004</td>\n",
              "      <td>1485.180054</td>\n",
              "      <td>372.690002</td>\n",
              "    </tr>\n",
              "    <tr>\n",
              "      <th>2020-07-08</th>\n",
              "      <td>1365.880005</td>\n",
              "      <td>3081.110107</td>\n",
              "      <td>502.779999</td>\n",
              "      <td>1496.000000</td>\n",
              "      <td>381.369995</td>\n",
              "    </tr>\n",
              "    <tr>\n",
              "      <th>2020-07-09</th>\n",
              "      <td>1394.280029</td>\n",
              "      <td>3182.629883</td>\n",
              "      <td>507.760010</td>\n",
              "      <td>1510.989990</td>\n",
              "      <td>383.010010</td>\n",
              "    </tr>\n",
              "    <tr>\n",
              "      <th>2020-07-10</th>\n",
              "      <td>1544.650024</td>\n",
              "      <td>3200.000000</td>\n",
              "      <td>548.729980</td>\n",
              "      <td>1541.739990</td>\n",
              "      <td>383.679993</td>\n",
              "    </tr>\n",
              "    <tr>\n",
              "      <th>2020-07-13</th>\n",
              "      <td>1497.060059</td>\n",
              "      <td>3104.000000</td>\n",
              "      <td>525.500000</td>\n",
              "      <td>1511.339966</td>\n",
              "      <td>381.910004</td>\n",
              "    </tr>\n",
              "  </tbody>\n",
              "</table>\n",
              "<p>1391 rows × 5 columns</p>\n",
              "</div>"
            ],
            "text/plain": [
              "                   TSLA         AMZN        NFLX         GOOG        AAPL\n",
              "Date                                                                     \n",
              "2015-01-02   219.309998   308.519989   49.848572   523.373108   99.945885\n",
              "2015-01-05   210.089996   302.190002   47.311428   512.463013   97.130241\n",
              "2015-01-06   211.279999   295.290009   46.501427   500.585632   97.139420\n",
              "2015-01-07   210.949997   298.420013   46.742859   499.727997   98.501518\n",
              "2015-01-08   210.619995   300.459991   47.779999   501.303680  102.286186\n",
              "...                 ...          ...         ...          ...         ...\n",
              "2020-07-07  1389.859985  3000.120117  493.160004  1485.180054  372.690002\n",
              "2020-07-08  1365.880005  3081.110107  502.779999  1496.000000  381.369995\n",
              "2020-07-09  1394.280029  3182.629883  507.760010  1510.989990  383.010010\n",
              "2020-07-10  1544.650024  3200.000000  548.729980  1541.739990  383.679993\n",
              "2020-07-13  1497.060059  3104.000000  525.500000  1511.339966  381.910004\n",
              "\n",
              "[1391 rows x 5 columns]"
            ]
          },
          "metadata": {
            "tags": []
          },
          "execution_count": 25
        }
      ]
    },
    {
      "cell_type": "code",
      "metadata": {
        "id": "fX7IHPcHCKzX",
        "colab_type": "code",
        "colab": {
          "base_uri": "https://localhost:8080/",
          "height": 325
        },
        "outputId": "18b398fa-a544-4516-c6e8-8797fde02b97"
      },
      "source": [
        "# visually show the portfolio\n",
        "\n",
        "title = 'Portfolio Adjusted Close Price History'\n",
        "\n",
        "#get the stocks\n",
        "my_stocks = df\n",
        "\n",
        "# create & plot the graph\n",
        "for c in my_stocks.columns.values:\n",
        "  plt.plot(my_stocks[c], label = c)\n",
        "\n",
        "plt.title(title)\n",
        "plt.xlabel('Date', fontsize = 18)\n",
        "plt.ylabel('Adj. Price USD($)')\n",
        "plt.legend(my_stocks.columns.values, loc = 'upper left')\n",
        "plt.show()"
      ],
      "execution_count": null,
      "outputs": [
        {
          "output_type": "display_data",
          "data": {
            "image/png": "[encoded data removed]",
            "text/plain": [
              "<Figure size 432x288 with 1 Axes>"
            ]
          },
          "metadata": {
            "tags": []
          }
        }
      ]
    },
    {
      "cell_type": "code",
      "metadata": {
        "id": "oD5hp4QDC8tY",
        "colab_type": "code",
        "colab": {
          "base_uri": "https://localhost:8080/",
          "height": 450
        },
        "outputId": "09513351-bac0-4ea6-fc57-bff1d2982a40"
      },
      "source": [
        "# show the daily simple return\n",
        "returns = df.pct_change()\n",
        "returns"
      ],
      "execution_count": null,
      "outputs": [
        {
          "output_type": "execute_result",
          "data": {
            "text/html": [
              "<div>\n",
              "<style scoped>\n",
              "    .dataframe tbody tr th:only-of-type {\n",
              "        vertical-align: middle;\n",
              "    }\n",
              "\n",
              "    .dataframe tbody tr th {\n",
              "        vertical-align: top;\n",
              "    }\n",
              "\n",
              "    .dataframe thead th {\n",
              "        text-align: right;\n",
              "    }\n",
              "</style>\n",
              "<table border=\"1\" class=\"dataframe\">\n",
              "  <thead>\n",
              "    <tr style=\"text-align: right;\">\n",
              "      <th></th>\n",
              "      <th>TSLA</th>\n",
              "      <th>AMZN</th>\n",
              "      <th>NFLX</th>\n",
              "      <th>GOOG</th>\n",
              "      <th>AAPL</th>\n",
              "    </tr>\n",
              "    <tr>\n",
              "      <th>Date</th>\n",
              "      <th></th>\n",
              "      <th></th>\n",
              "      <th></th>\n",
              "      <th></th>\n",
              "      <th></th>\n",
              "    </tr>\n",
              "  </thead>\n",
              "  <tbody>\n",
              "    <tr>\n",
              "      <th>2015-01-02</th>\n",
              "      <td>NaN</td>\n",
              "      <td>NaN</td>\n",
              "      <td>NaN</td>\n",
              "      <td>NaN</td>\n",
              "      <td>NaN</td>\n",
              "    </tr>\n",
              "    <tr>\n",
              "      <th>2015-01-05</th>\n",
              "      <td>-0.042041</td>\n",
              "      <td>-0.020517</td>\n",
              "      <td>-0.050897</td>\n",
              "      <td>-0.020846</td>\n",
              "      <td>-0.028172</td>\n",
              "    </tr>\n",
              "    <tr>\n",
              "      <th>2015-01-06</th>\n",
              "      <td>0.005664</td>\n",
              "      <td>-0.022833</td>\n",
              "      <td>-0.017121</td>\n",
              "      <td>-0.023177</td>\n",
              "      <td>0.000094</td>\n",
              "    </tr>\n",
              "    <tr>\n",
              "      <th>2015-01-07</th>\n",
              "      <td>-0.001562</td>\n",
              "      <td>0.010600</td>\n",
              "      <td>0.005192</td>\n",
              "      <td>-0.001713</td>\n",
              "      <td>0.014022</td>\n",
              "    </tr>\n",
              "    <tr>\n",
              "      <th>2015-01-08</th>\n",
              "      <td>-0.001564</td>\n",
              "      <td>0.006836</td>\n",
              "      <td>0.022188</td>\n",
              "      <td>0.003153</td>\n",
              "      <td>0.038422</td>\n",
              "    </tr>\n",
              "    <tr>\n",
              "      <th>...</th>\n",
              "      <td>...</td>\n",
              "      <td>...</td>\n",
              "      <td>...</td>\n",
              "      <td>...</td>\n",
              "      <td>...</td>\n",
              "    </tr>\n",
              "    <tr>\n",
              "      <th>2020-07-07</th>\n",
              "      <td>0.013328</td>\n",
              "      <td>-0.018619</td>\n",
              "      <td>-0.001316</td>\n",
              "      <td>-0.007033</td>\n",
              "      <td>-0.003103</td>\n",
              "    </tr>\n",
              "    <tr>\n",
              "      <th>2020-07-08</th>\n",
              "      <td>-0.017254</td>\n",
              "      <td>0.026996</td>\n",
              "      <td>0.019507</td>\n",
              "      <td>0.007285</td>\n",
              "      <td>0.023290</td>\n",
              "    </tr>\n",
              "    <tr>\n",
              "      <th>2020-07-09</th>\n",
              "      <td>0.020792</td>\n",
              "      <td>0.032949</td>\n",
              "      <td>0.009905</td>\n",
              "      <td>0.010020</td>\n",
              "      <td>0.004300</td>\n",
              "    </tr>\n",
              "    <tr>\n",
              "      <th>2020-07-10</th>\n",
              "      <td>0.107848</td>\n",
              "      <td>0.005458</td>\n",
              "      <td>0.080688</td>\n",
              "      <td>0.020351</td>\n",
              "      <td>0.001749</td>\n",
              "    </tr>\n",
              "    <tr>\n",
              "      <th>2020-07-13</th>\n",
              "      <td>-0.030810</td>\n",
              "      <td>-0.030000</td>\n",
              "      <td>-0.042334</td>\n",
              "      <td>-0.019718</td>\n",
              "      <td>-0.004613</td>\n",
              "    </tr>\n",
              "  </tbody>\n",
              "</table>\n",
              "<p>1391 rows × 5 columns</p>\n",
              "</div>"
            ],
            "text/plain": [
              "                TSLA      AMZN      NFLX      GOOG      AAPL\n",
              "Date                                                        \n",
              "2015-01-02       NaN       NaN       NaN       NaN       NaN\n",
              "2015-01-05 -0.042041 -0.020517 -0.050897 -0.020846 -0.028172\n",
              "2015-01-06  0.005664 -0.022833 -0.017121 -0.023177  0.000094\n",
              "2015-01-07 -0.001562  0.010600  0.005192 -0.001713  0.014022\n",
              "2015-01-08 -0.001564  0.006836  0.022188  0.003153  0.038422\n",
              "...              ...       ...       ...       ...       ...\n",
              "2020-07-07  0.013328 -0.018619 -0.001316 -0.007033 -0.003103\n",
              "2020-07-08 -0.017254  0.026996  0.019507  0.007285  0.023290\n",
              "2020-07-09  0.020792  0.032949  0.009905  0.010020  0.004300\n",
              "2020-07-10  0.107848  0.005458  0.080688  0.020351  0.001749\n",
              "2020-07-13 -0.030810 -0.030000 -0.042334 -0.019718 -0.004613\n",
              "\n",
              "[1391 rows x 5 columns]"
            ]
          },
          "metadata": {
            "tags": []
          },
          "execution_count": 27
        }
      ]
    },
    {
      "cell_type": "code",
      "metadata": {
        "id": "LQGIS9oWDnjy",
        "colab_type": "code",
        "colab": {
          "base_uri": "https://localhost:8080/",
          "height": 204
        },
        "outputId": "8362e11a-bf18-4a6c-c2a1-3501dab1c2ac"
      },
      "source": [
        "# create & show the annualized covariance matrix\n",
        "cov_matrix_annual = returns.cov()*252 # number of trading days for this year\n",
        "cov_matrix_annual"
      ],
      "execution_count": null,
      "outputs": [
        {
          "output_type": "execute_result",
          "data": {
            "text/html": [
              "<div>\n",
              "<style scoped>\n",
              "    .dataframe tbody tr th:only-of-type {\n",
              "        vertical-align: middle;\n",
              "    }\n",
              "\n",
              "    .dataframe tbody tr th {\n",
              "        vertical-align: top;\n",
              "    }\n",
              "\n",
              "    .dataframe thead th {\n",
              "        text-align: right;\n",
              "    }\n",
              "</style>\n",
              "<table border=\"1\" class=\"dataframe\">\n",
              "  <thead>\n",
              "    <tr style=\"text-align: right;\">\n",
              "      <th></th>\n",
              "      <th>TSLA</th>\n",
              "      <th>AMZN</th>\n",
              "      <th>NFLX</th>\n",
              "      <th>GOOG</th>\n",
              "      <th>AAPL</th>\n",
              "    </tr>\n",
              "  </thead>\n",
              "  <tbody>\n",
              "    <tr>\n",
              "      <th>TSLA</th>\n",
              "      <td>0.277441</td>\n",
              "      <td>0.055883</td>\n",
              "      <td>0.071142</td>\n",
              "      <td>0.050181</td>\n",
              "      <td>0.054387</td>\n",
              "    </tr>\n",
              "    <tr>\n",
              "      <th>AMZN</th>\n",
              "      <td>0.055883</td>\n",
              "      <td>0.093315</td>\n",
              "      <td>0.067346</td>\n",
              "      <td>0.053395</td>\n",
              "      <td>0.046387</td>\n",
              "    </tr>\n",
              "    <tr>\n",
              "      <th>NFLX</th>\n",
              "      <td>0.071142</td>\n",
              "      <td>0.067346</td>\n",
              "      <td>0.180458</td>\n",
              "      <td>0.055896</td>\n",
              "      <td>0.049312</td>\n",
              "    </tr>\n",
              "    <tr>\n",
              "      <th>GOOG</th>\n",
              "      <td>0.050181</td>\n",
              "      <td>0.053395</td>\n",
              "      <td>0.055896</td>\n",
              "      <td>0.071824</td>\n",
              "      <td>0.047883</td>\n",
              "    </tr>\n",
              "    <tr>\n",
              "      <th>AAPL</th>\n",
              "      <td>0.054387</td>\n",
              "      <td>0.046387</td>\n",
              "      <td>0.049312</td>\n",
              "      <td>0.047883</td>\n",
              "      <td>0.081107</td>\n",
              "    </tr>\n",
              "  </tbody>\n",
              "</table>\n",
              "</div>"
            ],
            "text/plain": [
              "          TSLA      AMZN      NFLX      GOOG      AAPL\n",
              "TSLA  0.277441  0.055883  0.071142  0.050181  0.054387\n",
              "AMZN  0.055883  0.093315  0.067346  0.053395  0.046387\n",
              "NFLX  0.071142  0.067346  0.180458  0.055896  0.049312\n",
              "GOOG  0.050181  0.053395  0.055896  0.071824  0.047883\n",
              "AAPL  0.054387  0.046387  0.049312  0.047883  0.081107"
            ]
          },
          "metadata": {
            "tags": []
          },
          "execution_count": 28
        }
      ]
    },
    {
      "cell_type": "code",
      "metadata": {
        "id": "fMJj7La3EwoY",
        "colab_type": "code",
        "colab": {
          "base_uri": "https://localhost:8080/",
          "height": 34
        },
        "outputId": "e9041943-dc26-4b2d-8ce4-30bd2ff71f8a"
      },
      "source": [
        "# calculate the portfolio variance\n",
        "port_variance = np.dot(weights.T, np.dot(cov_matrix_annual, weights))\n",
        "port_variance"
      ],
      "execution_count": null,
      "outputs": [
        {
          "output_type": "execute_result",
          "data": {
            "text/plain": [
              "0.09458257717319143"
            ]
          },
          "metadata": {
            "tags": []
          },
          "execution_count": 32
        }
      ]
    },
    {
      "cell_type": "code",
      "metadata": {
        "id": "V2ajZRQRFR4U",
        "colab_type": "code",
        "colab": {
          "base_uri": "https://localhost:8080/",
          "height": 34
        },
        "outputId": "05ecdf38-83c9-48ee-f37b-a333a05f7254"
      },
      "source": [
        "# calculate the portfolio volatility (standard deviation)\n",
        "port_volatility = np.sqrt(port_variance)\n",
        "port_volatility"
      ],
      "execution_count": null,
      "outputs": [
        {
          "output_type": "execute_result",
          "data": {
            "text/plain": [
              "0.3075428054323356"
            ]
          },
          "metadata": {
            "tags": []
          },
          "execution_count": 34
        }
      ]
    },
    {
      "cell_type": "code",
      "metadata": {
        "id": "HLwVJmgJFoeA",
        "colab_type": "code",
        "colab": {
          "base_uri": "https://localhost:8080/",
          "height": 34
        },
        "outputId": "4cf1de39-c0d3-45ea-fd10-ea005444b61b"
      },
      "source": [
        "# calculate the annual portfolio return\n",
        "portSimpleAnnualReturn= np.sum(returns.mean() * weights) * 252\n",
        "portSimpleAnnualReturn"
      ],
      "execution_count": null,
      "outputs": [
        {
          "output_type": "execute_result",
          "data": {
            "text/plain": [
              "0.4132345295956956"
            ]
          },
          "metadata": {
            "tags": []
          },
          "execution_count": 35
        }
      ]
    },
    {
      "cell_type": "code",
      "metadata": {
        "id": "7W1J5Um-Gdic",
        "colab_type": "code",
        "colab": {
          "base_uri": "https://localhost:8080/",
          "height": 85
        },
        "outputId": "d9b525b9-3ed2-457a-e9a7-a468fcde7c62"
      },
      "source": [
        "# show the expected annual return, volatility & variance\n",
        "percent_var= str(round(port_variance, 2) * 100) +'%'\n",
        "percent_vol = str(round(port_volatility, 2) * 100)+ '%'\n",
        "percent_exp = str(round(portSimpleAnnualReturn, 2) * 100)+'%'\n",
        "\n",
        "print('Expected annual return:', percent_exp)\n",
        "print('Volatility:', percent_vol)\n",
        "print('Variance:', percent_var)\n",
        "print(\"let's try to have a higher expected return with a lower volatility/ risk\")"
      ],
      "execution_count": null,
      "outputs": [
        {
          "output_type": "stream",
          "text": [
            "Expected annual return: 41.0%\n",
            "Volatility: 31.0%\n",
            "Variance: 9.0%\n",
            "let's try to have a higher expected return with a lower volatility/ risk\n"
          ],
          "name": "stdout"
        }
      ]
    },
    {
      "cell_type": "code",
      "metadata": {
        "id": "_omtat_pHTow",
        "colab_type": "code",
        "colab": {
          "base_uri": "https://localhost:8080/",
          "height": 343
        },
        "outputId": "323538ca-efe7-4d15-db22-41db707b1633"
      },
      "source": [
        "pip install PyPortfolioOpt"
      ],
      "execution_count": null,
      "outputs": [
        {
          "output_type": "stream",
          "text": [
            "Collecting PyPortfolioOpt\n",
            "\u001b[?25l  Downloading https://files.pythonhosted.org/packages/4a/4a/043a7207683e3ab5698ea0828254e99cda718ef43d8b6785fb41b70037c1/PyPortfolioOpt-1.2.4-py3-none-any.whl (48kB)\n",
            "\r\u001b[K     |██████▉                         | 10kB 18.1MB/s eta 0:00:01\r\u001b[K     |█████████████▋                  | 20kB 1.7MB/s eta 0:00:01\r\u001b[K     |████████████████████▍           | 30kB 2.3MB/s eta 0:00:01\r\u001b[K     |███████████████████████████▏    | 40kB 2.5MB/s eta 0:00:01\r\u001b[K     |████████████████████████████████| 51kB 1.6MB/s \n",
            "\u001b[?25hRequirement already satisfied: pandas>=0.19 in /usr/local/lib/python3.6/dist-packages (from PyPortfolioOpt) (1.0.5)\n",
            "Requirement already satisfied: cvxpy<1.1,>=1.0 in /usr/local/lib/python3.6/dist-packages (from PyPortfolioOpt) (1.0.31)\n",
            "Requirement already satisfied: numpy<2.0,>=1.12 in /usr/local/lib/python3.6/dist-packages (from PyPortfolioOpt) (1.18.5)\n",
            "Requirement already satisfied: scipy<2.0,>=1.3 in /usr/local/lib/python3.6/dist-packages (from PyPortfolioOpt) (1.4.1)\n",
            "Requirement already satisfied: pytz>=2017.2 in /usr/local/lib/python3.6/dist-packages (from pandas>=0.19->PyPortfolioOpt) (2018.9)\n",
            "Requirement already satisfied: python-dateutil>=2.6.1 in /usr/local/lib/python3.6/dist-packages (from pandas>=0.19->PyPortfolioOpt) (2.8.1)\n",
            "Requirement already satisfied: ecos>=2 in /usr/local/lib/python3.6/dist-packages (from cvxpy<1.1,>=1.0->PyPortfolioOpt) (2.0.7.post1)\n",
            "Requirement already satisfied: multiprocess in /usr/local/lib/python3.6/dist-packages (from cvxpy<1.1,>=1.0->PyPortfolioOpt) (0.70.10)\n",
            "Requirement already satisfied: osqp>=0.4.1 in /usr/local/lib/python3.6/dist-packages (from cvxpy<1.1,>=1.0->PyPortfolioOpt) (0.6.1)\n",
            "Requirement already satisfied: scs>=1.1.3 in /usr/local/lib/python3.6/dist-packages (from cvxpy<1.1,>=1.0->PyPortfolioOpt) (2.1.2)\n",
            "Requirement already satisfied: six>=1.5 in /usr/local/lib/python3.6/dist-packages (from python-dateutil>=2.6.1->pandas>=0.19->PyPortfolioOpt) (1.12.0)\n",
            "Requirement already satisfied: dill>=0.3.2 in /usr/local/lib/python3.6/dist-packages (from multiprocess->cvxpy<1.1,>=1.0->PyPortfolioOpt) (0.3.2)\n",
            "Requirement already satisfied: future in /usr/local/lib/python3.6/dist-packages (from osqp>=0.4.1->cvxpy<1.1,>=1.0->PyPortfolioOpt) (0.16.0)\n",
            "Installing collected packages: PyPortfolioOpt\n",
            "Successfully installed PyPortfolioOpt-1.2.4\n"
          ],
          "name": "stdout"
        }
      ]
    },
    {
      "cell_type": "code",
      "metadata": {
        "id": "yHExVfWIIaH8",
        "colab_type": "code",
        "colab": {}
      },
      "source": [
        "from pypfopt.efficient_frontier import EfficientFrontier\n",
        "from pypfopt import risk_models\n",
        "from pypfopt import expected_returns"
      ],
      "execution_count": null,
      "outputs": []
    },
    {
      "cell_type": "code",
      "metadata": {
        "id": "BU5QqIaVLXy4",
        "colab_type": "code",
        "colab": {
          "base_uri": "https://localhost:8080/",
          "height": 122
        },
        "outputId": "de95f568-6862-4cac-bc64-b3ff69c224b8"
      },
      "source": [
        "# calculate the expected returns & the annualised sample covariance matrix of asset returns\n",
        "mu = expected_returns.mean_historical_return(df)\n",
        "S = risk_models.sample_cov(df)\n",
        "\n",
        "#optimize for max sharpe ratio \n",
        "ef = EfficientFrontier(mu,S)\n",
        "weights = ef.max_sharpe()\n",
        "cleaned_weights = ef.clean_weights() \n",
        "print(cleaned_weights)\n",
        "ef.portfolio_performance(verbose = True)"
      ],
      "execution_count": null,
      "outputs": [
        {
          "output_type": "stream",
          "text": [
            "OrderedDict([('TSLA', 0.12201), ('AMZN', 0.64253), ('NFLX', 0.21456), ('GOOG', 0.0), ('AAPL', 0.0209)])\n",
            "Expected annual return: 47.5%\n",
            "Annual volatility: 29.0%\n",
            "Sharpe Ratio: 1.57\n"
          ],
          "name": "stdout"
        },
        {
          "output_type": "execute_result",
          "data": {
            "text/plain": [
              "(0.4749074301978891, 0.28985898536405663, 1.5694094479304659)"
            ]
          },
          "metadata": {
            "tags": []
          },
          "execution_count": 46
        }
      ]
    },
    {
      "cell_type": "code",
      "metadata": {
        "id": "fF_hPktVOK5B",
        "colab_type": "code",
        "colab": {
          "base_uri": "https://localhost:8080/",
          "height": 51
        },
        "outputId": "4c0cfd36-5015-4682-da31-07ed7f4fce08"
      },
      "source": [
        "# get the discrete allocation of each share per stock -> how much of those stock can we possess for $ 15,000\n",
        "from pypfopt.discrete_allocation import DiscreteAllocation, get_latest_prices\n",
        "\n",
        "latest_prices = get_latest_prices(df)\n",
        "weights = cleaned_weights\n",
        "da= DiscreteAllocation(weights, latest_prices,total_portfolio_value = 15000)\n",
        "\n",
        "allocation, leftover = da.lp_portfolio()\n",
        "print('Discrete allocation: ',allocation)\n",
        "print('Funds remaining: ${:.2f}'.format(leftover))"
      ],
      "execution_count": null,
      "outputs": [
        {
          "output_type": "stream",
          "text": [
            "Discrete allocation:  {'TSLA': 1.0, 'AMZN': 3.0, 'NFLX': 7.0, 'AAPL': 1.0}\n",
            "Funds remaining: $130.53\n"
          ],
          "name": "stdout"
        }
      ]
    },
    {
      "cell_type": "code",
      "metadata": {
        "id": "byzOEcDJPnxr",
        "colab_type": "code",
        "colab": {}
      },
      "source": [
        ""
      ],
      "execution_count": null,
      "outputs": []
    }
  ]
}